{
 "cells": [
  {
   "cell_type": "code",
   "execution_count": 1,
   "metadata": {},
   "outputs": [
    {
     "name": "stdout",
     "output_type": "stream",
     "text": [
      "Eigenvalues: [3.41421356 2.         0.58578644]\n"
     ]
    }
   ],
   "source": [
    "import numpy as np\n",
    "\n",
    "def qr_algorithm(A, max_iterations=1000, tolerance=1e-10):\n",
    "    n = A.shape[0]\n",
    "    for _ in range(max_iterations):\n",
    "        Q, R = np.linalg.qr(A)\n",
    "        A = R @ Q\n",
    "        # Check for convergence (optional, for illustration)\n",
    "        off_diagonal = np.sqrt(np.sum(A**2) - np.sum(np.diag(A)**2))\n",
    "        if off_diagonal < tolerance:\n",
    "            break\n",
    "    return np.diag(A)\n",
    "\n",
    "# Example usage\n",
    "A = np.array([[2, -1, 0], [-1, 2, -1], [0, -1, 2]])\n",
    "eigenvalues = qr_algorithm(A)\n",
    "print(\"Eigenvalues:\", eigenvalues)\n",
    "\n"
   ]
  }
 ],
 "metadata": {
  "kernelspec": {
   "display_name": "Python 3",
   "language": "python",
   "name": "python3"
  },
  "language_info": {
   "codemirror_mode": {
    "name": "ipython",
    "version": 3
   },
   "file_extension": ".py",
   "mimetype": "text/x-python",
   "name": "python",
   "nbconvert_exporter": "python",
   "pygments_lexer": "ipython3",
   "version": "3.12.2"
  }
 },
 "nbformat": 4,
 "nbformat_minor": 2
}
