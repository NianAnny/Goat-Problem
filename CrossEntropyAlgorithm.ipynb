{
 "cells": [
  {
   "cell_type": "code",
   "execution_count": 2,
   "metadata": {},
   "outputs": [],
   "source": [
    "import numpy as np\n",
    "\n",
    "def binary_cross_entropy(y_true, y_pred):\n",
    "    epsilon = 1e-15\n",
    "    y_pred = np.clip(y_pred, epsilon, 1 - epsilon)\n",
    "    loss = -np.mean(y_true * np.log(y_pred) + (1 - y_true) * np.log(1 - y_pred))\n",
    "    return loss\n",
    "\n",
    "def categorical_cross_entropy(y_true, y_pred):\n",
    "    epsilon = 1e-15\n",
    "    y_pred = np.clip(y_pred, epsilon, 1 - epsilon)\n",
    "    loss = -np.mean(np.sum(y_true * np.log(y_pred), axis=1))\n",
    "    return loss\n"
   ]
  },
  {
   "cell_type": "code",
   "execution_count": 5,
   "metadata": {},
   "outputs": [
    {
     "name": "stdout",
     "output_type": "stream",
     "text": [
      "Cross entropy loss: 0.35667494393873245\n"
     ]
    }
   ],
   "source": [
    "import numpy as np\n",
    "\n",
    "def cross_entropy(p, q):\n",
    "    \"\"\"\n",
    "    Computes the cross entropy loss between two probability distributions.\n",
    "    Both p and q are expected to be lists or numpy arrays containing the probability\n",
    "    distributions of each class. They must be of the same length.\n",
    "\n",
    "    Parameters:\n",
    "    - p: A list or numpy array representing the true distribution (ground truth).\n",
    "    - q: A list or numpy array representing the predicted distribution.\n",
    "\n",
    "    Returns:\n",
    "    - Cross entropy loss as a float.\n",
    "    \"\"\"\n",
    "    # Convert lists to numpy arrays for easier operations\n",
    "    p = np.array(p)\n",
    "    q = np.array(q)\n",
    "    \n",
    "    # Clip values of q to prevent division by zero or log of zero.\n",
    "    # This ensures numerical stability.\n",
    "    q = np.clip(q, 1e-15, 1 - 1e-15)\n",
    "\n",
    "    # Compute the cross entropy\n",
    "    return -np.sum(p * np.log(q))\n",
    "\n",
    "# Example usage\n",
    "true_distribution = [1, 0, 0]  # True class is the first class\n",
    "predicted_distribution = [0.7, 0.2, 0.1]  # Model's prediction\n",
    "\n",
    "loss = cross_entropy(true_distribution, predicted_distribution)\n",
    "print(\"Cross entropy loss:\", loss)\n"
   ]
  },
  {
   "cell_type": "code",
   "execution_count": null,
   "metadata": {},
   "outputs": [],
   "source": []
  }
 ],
 "metadata": {
  "kernelspec": {
   "display_name": "Python 3",
   "language": "python",
   "name": "python3"
  },
  "language_info": {
   "codemirror_mode": {
    "name": "ipython",
    "version": 3
   },
   "file_extension": ".py",
   "mimetype": "text/x-python",
   "name": "python",
   "nbconvert_exporter": "python",
   "pygments_lexer": "ipython3",
   "version": "3.12.2"
  }
 },
 "nbformat": 4,
 "nbformat_minor": 2
}
